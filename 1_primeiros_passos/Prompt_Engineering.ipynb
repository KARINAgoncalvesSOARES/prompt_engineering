{
 "cells": [
  {
   "cell_type": "markdown",
   "metadata": {},
   "source": [
    "<h1 align=\"center\">Primeiros passos com a Prompt Engineering</h1>"
   ]
  },
  {
   "cell_type": "markdown",
   "metadata": {},
   "source": [
    "Data Scientist Jr.: Karina Gonçalves Soares"
   ]
  },
  {
   "cell_type": "markdown",
   "metadata": {},
   "source": [
    "Links de estudo:\n",
    "\n",
    "* [Prompt-Engineering-Guide](https://github.com/dair-ai/Prompt-Engineering-Guide/blob/main/notebooks/pe-lecture.ipynb)\n",
    "* [O que é Engenharia de Prompt...](https://www.alura.com.br/artigos/engenharia-prompt)\n"
   ]
  },
  {
   "cell_type": "markdown",
   "metadata": {},
   "source": [
    "por DAIR.AI | Elvis Saravia\n",
    "\n",
    "    Este caderno contém exemplos e exercícios para aprender sobre Prompt Engineering.\n",
    "\n",
    "    Usaremos as APIs OpenAI para todos os exemplos. Estou usando as configurações padrão de temperature = 0,7 e top-p = 1\n",
    "\n",
    "1. Noções básicas de Prompt Engineering\n",
    "\n",
    "* Objetivos\n",
    "\n",
    "    * Carregue as bibliotecas\n",
    "    * Revise o formato\n",
    "    * Cubra os prompts básicos\n",
    "    * Revise casos de uso comuns\n",
    "\n",
    "Abaixo estamos carregando as bibliotecas, utilitários e configurações necessárias."
   ]
  },
  {
   "cell_type": "code",
   "execution_count": 1,
   "metadata": {},
   "outputs": [],
   "source": [
    "import openai # Permite interação com modelos de linguagem treinados pela OpenAI\n",
    "import os\n",
    "import IPython # Recursos para execução interativa \n",
    "from langchain.llms import OpenAI\n",
    "from dotenv import load_dotenv, find_dotenv"
   ]
  },
  {
   "cell_type": "code",
   "execution_count": 2,
   "metadata": {},
   "outputs": [],
   "source": [
    "_ = load_dotenv(find_dotenv()) # read lical ,env file\n",
    "key_openai = os.environ['OPENAI_API_KEY']"
   ]
  },
  {
   "cell_type": "code",
   "execution_count": 3,
   "metadata": {},
   "outputs": [],
   "source": [
    "def set_open_params(\n",
    "    model=\"gpt-3.5-turbo\",\n",
    "    temperature=0.7,\n",
    "    max_tokens=256,\n",
    "    top_p=1,\n",
    "    frequency_penalty=0,\n",
    "    presence_penalty=0,  \n",
    "):\n",
    "    \"\"\" definir parâmetros openai\"\"\"\n",
    "    \n",
    "    openai_params = {}\n",
    "    \n",
    "    \n",
    "    openai_params[\"model\"] = model\n",
    "    openai_params[\"temperature\"] = temperature\n",
    "    openai_params[\"max_tokens\"] = max_tokens\n",
    "    openai_params[\"top_p\"] = top_p\n",
    "    openai_params[\"frequency_penalty\"] = frequency_penalty\n",
    "    openai_params[\"presence_penalty\"] = presence_penalty\n",
    "    return openai_params\n",
    "\n",
    "def get_completion(params, messages):\n",
    "    \"\"\" obter resposta da API openai\"\"\"\n",
    "    \n",
    "    \n",
    "    response = openai.chat.completions.create(\n",
    "        model = params['model'],\n",
    "        messages = messages,\n",
    "        temperature = params['temperature'],\n",
    "        max_tokens = params['max_tokens'],\n",
    "        top_p = params['top_p'],\n",
    "        frequency_penalty = params['frequency_penalty'],\n",
    "        presence_penalty = params['presence_penalty'],\n",
    "    )\n",
    "    return response\n",
    "\n",
    "    \n",
    "    "
   ]
  },
  {
   "cell_type": "markdown",
   "metadata": {},
   "source": [
    "Exemplo de prompt básico:"
   ]
  },
  {
   "cell_type": "code",
   "execution_count": 4,
   "metadata": {},
   "outputs": [],
   "source": [
    "params = set_open_params()\n",
    "\n",
    "prompt = \"qual é a cor do céu?\"\n",
    "\n",
    "messages = [\n",
    "    {\n",
    "        \"role\": \"user\",\n",
    "        \"content\": prompt\n",
    "    }\n",
    "]\n",
    "\n",
    "response = get_completion(params, messages)"
   ]
  },
  {
   "cell_type": "code",
   "execution_count": 5,
   "metadata": {},
   "outputs": [
    {
     "data": {
      "text/plain": [
       "'A cor do céu pode variar dependendo da hora do dia e das condições meteorológicas. Geralmente, o céu é azul durante o dia e pode mudar para tons de laranja, rosa, roxo ou vermelho durante o nascer ou pôr do sol. Durante a noite, o céu pode parecer preto ou escuro, mas em áreas com pouca poluição luminosa, é possível ver estrelas e a Via Láctea, que dão ao céu uma tonalidade azul escura ou roxa.'"
      ]
     },
     "execution_count": 5,
     "metadata": {},
     "output_type": "execute_result"
    }
   ],
   "source": [
    "response.choices[0].message.content"
   ]
  },
  {
   "cell_type": "markdown",
   "metadata": {},
   "source": [
    "Experimente com temperaturas diferentes para comparar os resultados:"
   ]
  },
  {
   "cell_type": "code",
   "execution_count": 6,
   "metadata": {},
   "outputs": [
    {
     "data": {
      "text/markdown": [
       "A cor do céu pode variar dependendo da hora do dia e das condições climáticas. Geralmente, durante o dia, o céu é azul, mas pode apresentar tons de laranja, rosa, roxo e vermelho durante o nascer e o pôr do sol. Durante a noite, o céu pode ser preto ou escuro, mas também pode apresentar tons de azul escuro, roxo e prateado, dependendo da iluminação da lua e das estrelas."
      ],
      "text/plain": [
       "<IPython.core.display.Markdown object>"
      ]
     },
     "execution_count": 6,
     "metadata": {},
     "output_type": "execute_result"
    }
   ],
   "source": [
    "params = set_open_params(temperature=0)\n",
    "response = get_completion(params, messages)\n",
    "IPython.display.Markdown(response.choices[0].message.content)"
   ]
  },
  {
   "cell_type": "markdown",
   "metadata": {},
   "source": [
    "### 1.1 Resumo do Texto"
   ]
  },
  {
   "cell_type": "code",
   "execution_count": 12,
   "metadata": {},
   "outputs": [
    {
     "data": {
      "text/markdown": [
       "\n",
       "\n",
       "É importante seguir as instruções do médico ao tomar antibióticos, incluindo completar todo o curso de tratamento, mesmo que os sintomas melhorem antes. Interromper o tratamento prematuramente pode resultar em uma infecção recorrente ou resistência aos antibióticos.\n",
       "\n",
       "Além disso, é importante não compartilhar antibióticos com outras pessoas, pois o medicamento pode não ser apropriado para a condição delas e pode causar efeitos colaterais indesejados.\n",
       "\n",
       "É essencial informar ao médico sobre qualquer alergia a antibióticos ou outros medicamentos, bem como qualquer outra condição de saúde que possa afetar o uso seguro dos antibióticos.\n",
       "\n",
       "Em resumo, os antibióticos são uma ferramenta importante no tratamento de infecções bacterianas, mas seu uso deve ser cuidadosamente monitorado e seguido de acordo com as orientações médicas para garantir a eficácia e evitar problemas de resistência."
      ],
      "text/plain": [
       "<IPython.core.display.Markdown object>"
      ]
     },
     "execution_count": 12,
     "metadata": {},
     "output_type": "execute_result"
    }
   ],
   "source": [
    "params = set_open_params(temperature=0)\n",
    "\n",
    "prompt =\"\"\"Os antibióticos são um tipo de medicamento usado para tratar infecções bacterianas.\\n\n",
    " Eles atuam matando as bactérias ou impedindo-as de se reproduzirem, permitindo que o sistema imunológico do corpo combata a infecção.\\n\n",
    " Os antibióticos são geralmente tomados por via oral na forma de comprimidos, cápsulas ou soluções líquidas, ou às vezes administrados por via intravenosa.\\n\n",
    " Eles não são eficazes contra infecções virais e seu uso inadequado pode levar à resistência aos antibióticos.\"\"\"\n",
    " \n",
    " \n",
    "messages = [\n",
    "    {\n",
    "        \"role\": \"user\",\n",
    "        \"content\": prompt\n",
    "    }\n",
    " ]\n",
    "\n",
    "response = get_completion(params, messages)\n",
    "IPython.display.Markdown(response.choices[0].message.content)"
   ]
  },
  {
   "cell_type": "code",
   "execution_count": null,
   "metadata": {},
   "outputs": [],
   "source": []
  }
 ],
 "metadata": {
  "kernelspec": {
   "display_name": "venv_promp",
   "language": "python",
   "name": "python3"
  },
  "language_info": {
   "codemirror_mode": {
    "name": "ipython",
    "version": 3
   },
   "file_extension": ".py",
   "mimetype": "text/x-python",
   "name": "python",
   "nbconvert_exporter": "python",
   "pygments_lexer": "ipython3",
   "version": "3.10.12"
  }
 },
 "nbformat": 4,
 "nbformat_minor": 2
}
