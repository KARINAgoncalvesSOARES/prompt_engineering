{
 "cells": [
  {
   "cell_type": "markdown",
   "metadata": {},
   "source": [
    "<h1 align=\"center\">Primeiros passos com a Prompt Engineering</h1>"
   ]
  },
  {
   "cell_type": "markdown",
   "metadata": {},
   "source": [
    "Data Scientist Jr.: Karina Gonçalves Soares"
   ]
  },
  {
   "cell_type": "markdown",
   "metadata": {},
   "source": [
    "Links de estudo:\n",
    "\n",
    "* [Prompt-Engineering-Guide](https://github.com/dair-ai/Prompt-Engineering-Guide/blob/main/notebooks/pe-lecture.ipynb)\n",
    "* [O que é Engenharia de Prompt...](https://www.alura.com.br/artigos/engenharia-prompt)\n"
   ]
  },
  {
   "cell_type": "markdown",
   "metadata": {},
   "source": [
    "por DAIR.AI | Elvis Saravia\n",
    "\n",
    "    Este caderno contém exemplos e exercícios para aprender sobre Prompt Engineering.\n",
    "\n",
    "    Usaremos as APIs OpenAI para todos os exemplos. Estou usando as configurações padrão de temperature = 0,7 e top-p = 1\n",
    "\n",
    "1. Noções básicas de Prompt Engineering\n",
    "\n",
    "* Objetivos\n",
    "\n",
    "    * Carregue as bibliotecas\n",
    "    * Revise o formato\n",
    "    * Cubra os prompts básicos\n",
    "    * Revise casos de uso comuns\n",
    "\n",
    "Abaixo estamos carregando as bibliotecas, utilitários e configurações necessárias."
   ]
  },
  {
   "cell_type": "code",
   "execution_count": 1,
   "metadata": {},
   "outputs": [],
   "source": [
    "import openai # Permite interação com modelos de linguagem treinados pela OpenAI\n",
    "import os\n",
    "import IPython # Recursos para formatação\n",
    "from langchain.llms import OpenAI\n",
    "from dotenv import load_dotenv, find_dotenv"
   ]
  },
  {
   "cell_type": "code",
   "execution_count": 2,
   "metadata": {},
   "outputs": [],
   "source": [
    "_ = load_dotenv(find_dotenv()) # read lical ,env file\n",
    "key_openai = os.environ['OPENAI_API_KEY']"
   ]
  },
  {
   "cell_type": "code",
   "execution_count": 3,
   "metadata": {},
   "outputs": [],
   "source": [
    "def set_open_params(\n",
    "    model=\"gpt-3.5-turbo\",\n",
    "    temperature=0.7,\n",
    "    max_tokens=256,\n",
    "    top_p=1, # evita geração de texto irrelevante\n",
    "    frequency_penalty=0, # penalidade para tokens repetidos\n",
    "    presence_penalty=0,  # penalidade por tokens que não apareceram\n",
    "):\n",
    "    \"\"\" definir parâmetros openai\"\"\"\n",
    "    \n",
    "    openai_params = {}\n",
    "    \n",
    "    \n",
    "    openai_params[\"model\"] = model\n",
    "    openai_params[\"temperature\"] = temperature\n",
    "    openai_params[\"max_tokens\"] = max_tokens\n",
    "    openai_params[\"top_p\"] = top_p\n",
    "    openai_params[\"frequency_penalty\"] = frequency_penalty\n",
    "    openai_params[\"presence_penalty\"] = presence_penalty\n",
    "    return openai_params\n",
    "\n",
    "def get_completion(params, messages):\n",
    "    \n",
    "    \"\"\" obter resposta da API openai\"\"\"\n",
    "    \n",
    "    response = openai.chat.completions.create(\n",
    "        model = params['model'],\n",
    "        messages = messages,\n",
    "        temperature = params['temperature'],\n",
    "        max_tokens = params['max_tokens'],\n",
    "        top_p = params['top_p'],\n",
    "        frequency_penalty = params['frequency_penalty'],\n",
    "        presence_penalty = params['presence_penalty'],\n",
    "    )\n",
    "    return response\n",
    "\n",
    "    \n",
    "    "
   ]
  },
  {
   "cell_type": "markdown",
   "metadata": {},
   "source": [
    "Exemplo de prompt básico:"
   ]
  },
  {
   "cell_type": "code",
   "execution_count": 4,
   "metadata": {},
   "outputs": [],
   "source": [
    "params = set_open_params()\n",
    "\n",
    "prompt = \"qual é a cor do céu?\"\n",
    "\n",
    "messages = [\n",
    "    {\n",
    "        \"role\": \"user\",\n",
    "        \"content\": prompt\n",
    "    }\n",
    "]\n",
    "\n",
    "response = get_completion(params, messages)"
   ]
  },
  {
   "cell_type": "code",
   "execution_count": 5,
   "metadata": {},
   "outputs": [
    {
     "data": {
      "text/plain": [
       "'A cor do céu varia dependendo das condições climáticas e da hora do dia. Durante o dia, o céu geralmente parece azul devido à dispersão da luz solar pela atmosfera. Durante o pôr do sol e o nascer do sol, o céu pode adquirir tons de laranja, vermelho, rosa e roxo. Durante a noite, o céu costuma ser escuro, mas pode ser iluminado pela lua e pelas estrelas.'"
      ]
     },
     "execution_count": 5,
     "metadata": {},
     "output_type": "execute_result"
    }
   ],
   "source": [
    "response.choices[0].message.content"
   ]
  },
  {
   "cell_type": "markdown",
   "metadata": {},
   "source": [
    "Experimente com temperaturas diferentes para comparar os resultados:"
   ]
  },
  {
   "cell_type": "code",
   "execution_count": 6,
   "metadata": {},
   "outputs": [
    {
     "data": {
      "text/markdown": [
       "A cor do céu pode variar dependendo da hora do dia e das condições climáticas. Durante o dia, o céu geralmente é azul, devido à dispersão da luz solar na atmosfera. Durante o pôr do sol e o nascer do sol, o céu pode apresentar tons de laranja, rosa, vermelho e roxo. Durante a noite, o céu pode parecer preto, mas na verdade é um tom de azul escuro."
      ],
      "text/plain": [
       "<IPython.core.display.Markdown object>"
      ]
     },
     "execution_count": 6,
     "metadata": {},
     "output_type": "execute_result"
    }
   ],
   "source": [
    "params = set_open_params(temperature=0)\n",
    "response = get_completion(params, messages)\n",
    "IPython.display.Markdown(response.choices[0].message.content)"
   ]
  },
  {
   "cell_type": "markdown",
   "metadata": {},
   "source": [
    "### 1.1 Resumo do Texto"
   ]
  },
  {
   "cell_type": "code",
   "execution_count": 7,
   "metadata": {},
   "outputs": [
    {
     "data": {
      "text/markdown": [
       "Os antibióticos são remédios que ajudam a combater as bactérias que deixam a gente doente. Eles podem matar as bactérias ou impedir que elas se multipliquem, para que nosso corpo consiga se livrar da infecção. \n",
       "\n",
       "Os antibióticos podem ser tomados de diferentes formas, como em comprimidos, cápsulas ou até mesmo em líquido. Às vezes, eles também podem ser colocados direto na veia. \n",
       "\n",
       "É importante lembrar que os antibióticos não funcionam contra vírus, apenas contra bactérias. E se a gente usar os antibióticos de forma errada, as bactérias podem ficar mais fortes e os remédios podem não funcionar mais. Por isso, é importante sempre seguir as orientações do médico quando precisamos tomar antibióticos."
      ],
      "text/plain": [
       "<IPython.core.display.Markdown object>"
      ]
     },
     "execution_count": 7,
     "metadata": {},
     "output_type": "execute_result"
    }
   ],
   "source": [
    "params = set_open_params(temperature=0)\n",
    "\n",
    "prompt =\"\"\"\n",
    "Responda o texto a seguir levando em consideração que VOCÊ ESTÁ EXPLICANDO PARA UMA CRIANÇA DE 5 ANOS.\n",
    "\n",
    "\n",
    "Os antibióticos são um tipo de medicamento usado para tratar infecções bacterianas.\\n\n",
    " Eles atuam matando as bactérias ou impedindo-as de se reproduzirem, permitindo que o sistema imunológico do corpo combata a infecção.\\n\n",
    " Os antibióticos são geralmente tomados por via oral na forma de comprimidos, cápsulas ou soluções líquidas, ou às vezes administrados por via intravenosa.\\n\n",
    " Eles não são eficazes contra infecções virais e seu uso inadequado pode levar à resistência aos antibióticos.\"\"\"\n",
    " \n",
    " \n",
    "messages = [\n",
    "    {\n",
    "        \"role\": \"user\",\n",
    "        \"content\": prompt\n",
    "    }\n",
    " ]\n",
    "\n",
    "response = get_completion(params, messages)\n",
    "IPython.display.Markdown(response.choices[0].message.content)"
   ]
  },
  {
   "cell_type": "markdown",
   "metadata": {},
   "source": [
    "<font color=\"red\">Exercício:</font>Instrua o modelo a explicar o parágrafo para uma criança de 5 anos. Você vê alguma diferença?"
   ]
  },
  {
   "cell_type": "markdown",
   "metadata": {},
   "source": [
    "### 1.2 Resposta a perguntas"
   ]
  },
  {
   "cell_type": "code",
   "execution_count": 8,
   "metadata": {},
   "outputs": [
    {
     "data": {
      "text/markdown": [
       "O OKT3 foi originalmente proveniente de ratos."
      ],
      "text/plain": [
       "<IPython.core.display.Markdown object>"
      ]
     },
     "execution_count": 8,
     "metadata": {},
     "output_type": "execute_result"
    }
   ],
   "source": [
    "prompt = \"\"\"Responda à pergunta com base no contexto abaixo. Mantenha a resposta curta e concisa.\\n\n",
    "Responda \"Não tenho certeza sobre a resposta\" SE NÃO TIVER CERTEZA DA RESPOSTA.\n",
    "\n",
    "Contexto: Teplizumab tem suas raízes em uma empresa farmacêutica de Nova Jersey chamada Ortho Pharmaceutical.\\n\n",
    "Lá, os cientistas geraram uma versão inicial do anticorpo, batizada de OKT3.\\n\n",
    "Originalmente proveniente de ratos, a molécula foi capaz de se ligar à superfície das células T e limitar o seu potencial de morte celular.\\n\n",
    "Em 1986, foi aprovado para ajudar a prevenir a rejeição de órgãos após transplantes renais, tornando-se o primeiro anticorpo terapêutico permitido para uso humano.\n",
    "\n",
    "Pergunta: Qual foi originalmente a origem do OKT3?\n",
    "\n",
    "Responder:\"\"\"\n",
    "\n",
    "messages = [\n",
    "    {\n",
    "        \"role\": \"user\",\n",
    "        \"content\": prompt\n",
    "    }\n",
    "]\n",
    "\n",
    "response = get_completion(params, messages)\n",
    "IPython.display.Markdown(response.choices[0].message.content)"
   ]
  },
  {
   "cell_type": "markdown",
   "metadata": {},
   "source": [
    "[Contexto obtido **aqui!**](https://www.nature.com/articles/d41586-023-00400-x)\n",
    "\n",
    "<font color=\"red\">Exercício:</font> Edite o prompt e faça com que o modelo responda que não tem certeza sobre a resposta."
   ]
  },
  {
   "cell_type": "markdown",
   "metadata": {},
   "source": [
    "### 1.3 Classificação do Texto"
   ]
  },
  {
   "cell_type": "code",
   "execution_count": 9,
   "metadata": {},
   "outputs": [
    {
     "data": {
      "text/markdown": [
       "Neutro.\n",
       "\n",
       "Explicação:\n",
       "O texto expressa uma opinião sobre a comida, mas de forma neutra, sem indicar claramente se a experiência foi positiva ou negativa. A palavra \"acho\" indica uma opinião pessoal, mas não fornece informações suficientes para determinar se a comida foi considerada boa ou ruim. Portanto, a classificação neutra é a mais apropriada."
      ],
      "text/plain": [
       "<IPython.core.display.Markdown object>"
      ]
     },
     "execution_count": 9,
     "metadata": {},
     "output_type": "execute_result"
    }
   ],
   "source": [
    "prompt = \"\"\"\n",
    "Classifique o texto em neutro, negativo ou positivo e explique o porquê de você ter tirado essa conclusão.\n",
    "\n",
    "Texto: Acho que a comida estava boa.\n",
    "\n",
    "Sentimento:\n",
    "\"\"\"\n",
    "\n",
    "messages = [\n",
    "    {\n",
    "        \"role\": \"user\",\n",
    "        \"content\": prompt\n",
    "    }\n",
    "]\n",
    "\n",
    "response = get_completion(params, messages)\n",
    "IPython.display.Markdown(response.choices[0].message.content)"
   ]
  },
  {
   "cell_type": "markdown",
   "metadata": {},
   "source": [
    "<font color=\"red\">Exercício:</font> Modifique o prompt para instruir o modelo a fornecer uma explicação para a resposta selecionada."
   ]
  },
  {
   "cell_type": "markdown",
   "metadata": {},
   "source": [
    "### 1.4 Representação de papéis"
   ]
  },
  {
   "cell_type": "code",
   "execution_count": 13,
   "metadata": {},
   "outputs": [
    {
     "data": {
      "text/markdown": [
       "Claro! Os buracos negros são regiões do espaço-tempo onde a gravidade é tão intensa que nada, nem mesmo a luz, consegue escapar. Eles são formados a partir do colapso de estrelas massivas no final de sua vida. Essa massa concentrada cria um campo gravitacional extremamente forte, que suga tudo ao seu redor. É como se fosse um poço sem fundo no espaço."
      ],
      "text/plain": [
       "<IPython.core.display.Markdown object>"
      ]
     },
     "execution_count": 13,
     "metadata": {},
     "output_type": "execute_result"
    }
   ],
   "source": [
    "prompt = \"\"\"A seguir temos uma conversa entre um Humano e uma Inteligência Artificial. A Inteligência Artificial é assistente em técnica científica.\n",
    "COMPLETE O DIÁLOGO A SEGRIR TRAZENDO UMA RESPOSTA PARA O HUMANO.\n",
    "\n",
    "Humano: Olá, quem é você?\n",
    "IA: Saudação! Sou assistente de pesquisa de IA. Como posso ajudá-lo hoje?\n",
    "Humano: Você pode me contar sobre a criação de buracos negros?\n",
    "IA:\"\"\"\n",
    "\n",
    "messages = [\n",
    "    {\n",
    "        \"role\": \"user\",\n",
    "        \"content\": prompt\n",
    "    }\n",
    "]\n",
    "\n",
    "response = get_completion(params, messages)\n",
    "IPython.display.Markdown(response.choices[0].message.content)"
   ]
  },
  {
   "cell_type": "markdown",
   "metadata": {},
   "source": [
    "<font color=\"red\">Exercício:</font> Modifique o prompt para instruir o modelo a manter as respostas de IA concisas e curtas."
   ]
  },
  {
   "cell_type": "markdown",
   "metadata": {},
   "source": [
    "### 1.5 Geração de Código"
   ]
  },
  {
   "cell_type": "code",
   "execution_count": 14,
   "metadata": {},
   "outputs": [
    {
     "data": {
      "text/markdown": [
       "SELECT StudentId, StudentName\n",
       "FROM estudantes\n",
       "WHERE DepartmentId = (SELECT DepartmentId FROM departamentos WHERE DepartmentName = 'Ciência da Computação');"
      ],
      "text/plain": [
       "<IPython.core.display.Markdown object>"
      ]
     },
     "execution_count": 14,
     "metadata": {},
     "output_type": "execute_result"
    }
   ],
   "source": [
    "prompt = \"\"\"\n",
    "Tabela departamentos, colunas = [DepartmentId, DepartmentName]\\n\n",
    "Tabela estudantes, colunas = [DepartmentId, StudentId, StudentName]\\n\n",
    "Crie uma consulta MySQL para todos os alunos do Departamento de Ciência da Computação\n",
    "\"\"\"\n",
    "messages = [\n",
    "    {\n",
    "        \"role\": \"user\",\n",
    "        \"content\": prompt\n",
    "    }\n",
    "]\n",
    "\n",
    "response = get_completion(params, messages)\n",
    "IPython.display.Markdown(response.choices[0].message.content)"
   ]
  }
 ],
 "metadata": {
  "kernelspec": {
   "display_name": "venv_promp",
   "language": "python",
   "name": "python3"
  },
  "language_info": {
   "codemirror_mode": {
    "name": "ipython",
    "version": 3
   },
   "file_extension": ".py",
   "mimetype": "text/x-python",
   "name": "python",
   "nbconvert_exporter": "python",
   "pygments_lexer": "ipython3",
   "version": "3.10.12"
  }
 },
 "nbformat": 4,
 "nbformat_minor": 2
}
